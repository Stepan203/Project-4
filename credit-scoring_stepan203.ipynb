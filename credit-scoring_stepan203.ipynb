{
 "cells": [
  {
   "cell_type": "markdown",
   "id": "micro-pearl",
   "metadata": {
    "papermill": {
     "duration": 0.082953,
     "end_time": "2021-07-02T17:24:41.900125",
     "exception": false,
     "start_time": "2021-07-02T17:24:41.817172",
     "status": "completed"
    },
    "tags": []
   },
   "source": [
    "# Проект \"Компьютер говорит нет\""
   ]
  },
  {
   "cell_type": "markdown",
   "id": "declared-acrobat",
   "metadata": {
    "papermill": {
     "duration": 0.081326,
     "end_time": "2021-07-02T17:24:42.061872",
     "exception": false,
     "start_time": "2021-07-02T17:24:41.980546",
     "status": "completed"
    },
    "tags": []
   },
   "source": [
    "# Импорт библиотек"
   ]
  },
  {
   "cell_type": "code",
   "execution_count": 1,
   "id": "removed-rough",
   "metadata": {
    "execution": {
     "iopub.execute_input": "2021-07-02T17:24:42.229594Z",
     "iopub.status.busy": "2021-07-02T17:24:42.227820Z",
     "iopub.status.idle": "2021-07-02T17:24:43.423113Z",
     "shell.execute_reply": "2021-07-02T17:24:43.422271Z",
     "shell.execute_reply.started": "2021-07-02T16:32:43.246951Z"
    },
    "papermill": {
     "duration": 1.280637,
     "end_time": "2021-07-02T17:24:43.423285",
     "exception": false,
     "start_time": "2021-07-02T17:24:42.142648",
     "status": "completed"
    },
    "tags": []
   },
   "outputs": [],
   "source": [
    "from pandas import Series\n",
    "import pandas as pd\n",
    "import numpy as np\n",
    "import warnings\n",
    "\n",
    "import matplotlib.pyplot as plt\n",
    "import seaborn as sns\n",
    "\n",
    "from sklearn.feature_selection import f_classif, mutual_info_classif\n",
    "from sklearn.preprocessing import LabelEncoder, OneHotEncoder, StandardScaler, PolynomialFeatures\n",
    "\n",
    "from sklearn.model_selection import train_test_split\n",
    "from sklearn.linear_model import LogisticRegression\n",
    "from sklearn.model_selection import GridSearchCV, StratifiedShuffleSplit\n",
    "\n",
    "from sklearn.metrics import confusion_matrix, ConfusionMatrixDisplay\n",
    "from sklearn.metrics import auc, roc_auc_score, roc_curve\n",
    "from sklearn.metrics import recall_score, precision_score, f1_score, log_loss\n",
    "from sklearn.metrics import accuracy_score\n",
    "from sklearn.metrics import precision_recall_curve, average_precision_score\n",
    "from datetime import date\n",
    "from datetime import datetime, timedelta\n",
    "\n",
    "warnings.filterwarnings(\"ignore\")"
   ]
  },
  {
   "cell_type": "markdown",
   "id": "corresponding-mentor",
   "metadata": {
    "papermill": {
     "duration": 0.079589,
     "end_time": "2021-07-02T17:24:43.583472",
     "exception": false,
     "start_time": "2021-07-02T17:24:43.503883",
     "status": "completed"
    },
    "tags": []
   },
   "source": [
    "client_id - идентификатор клиента\n",
    "\n",
    "education - уровень образования\n",
    "\n",
    "sex - пол заемщика\n",
    "\n",
    "age - возраст заемщика\n",
    "\n",
    "car - флаг наличия автомобиля\n",
    "\n",
    "car_type - флаг автомобиля иномарки\n",
    "\n",
    "decline_app_cnt - количество отказанных прошлых заявок\n",
    "\n",
    "good_work - флаг наличия “хорошей” работы\n",
    "\n",
    "bki_request_cnt - количество запросов в БКИ\n",
    "\n",
    "home_address - категоризатор домашнего адреса\n",
    "\n",
    "work_address - категоризатор рабочего адреса\n",
    "\n",
    "income - доход заемщика\n",
    "\n",
    "foreign_passport - наличие загранпаспорта\n",
    "\n",
    "sna - связь заемщика с клиентами банка\n",
    "\n",
    "first_time - давность наличия информации о заемщике\n",
    "\n",
    "score_bki - скоринговый балл по данным из БКИ\n",
    "\n",
    "region_rating - рейтинг региона\n",
    "\n",
    "app_date - дата подачи заявки\n",
    "\n",
    "default - флаг дефолта по кредиту"
   ]
  },
  {
   "cell_type": "code",
   "execution_count": 2,
   "id": "studied-beverage",
   "metadata": {
    "execution": {
     "iopub.execute_input": "2021-07-02T17:24:43.749114Z",
     "iopub.status.busy": "2021-07-02T17:24:43.748046Z",
     "iopub.status.idle": "2021-07-02T17:24:44.040514Z",
     "shell.execute_reply": "2021-07-02T17:24:44.041010Z",
     "shell.execute_reply.started": "2021-07-02T16:46:50.159635Z"
    },
    "papermill": {
     "duration": 0.377863,
     "end_time": "2021-07-02T17:24:44.041194",
     "exception": false,
     "start_time": "2021-07-02T17:24:43.663331",
     "status": "completed"
    },
    "tags": []
   },
   "outputs": [],
   "source": [
    "PATH_to_file = '/kaggle/input/sf-dst-scoring/'\n",
    "train = pd.read_csv(PATH_to_file+'train.csv')\n",
    "test = pd.read_csv(PATH_to_file+'test.csv')"
   ]
  },
  {
   "cell_type": "code",
   "execution_count": 3,
   "id": "looking-harassment",
   "metadata": {
    "execution": {
     "iopub.execute_input": "2021-07-02T17:24:44.212158Z",
     "iopub.status.busy": "2021-07-02T17:24:44.211435Z",
     "iopub.status.idle": "2021-07-02T17:24:44.228263Z",
     "shell.execute_reply": "2021-07-02T17:24:44.228796Z",
     "shell.execute_reply.started": "2021-07-02T13:16:13.100965Z"
    },
    "papermill": {
     "duration": 0.103974,
     "end_time": "2021-07-02T17:24:44.228960",
     "exception": false,
     "start_time": "2021-07-02T17:24:44.124986",
     "status": "completed"
    },
    "tags": []
   },
   "outputs": [
    {
     "data": {
      "text/plain": [
       "client_id             int64\n",
       "app_date             object\n",
       "education            object\n",
       "sex                  object\n",
       "age                   int64\n",
       "car                  object\n",
       "car_type             object\n",
       "decline_app_cnt       int64\n",
       "good_work             int64\n",
       "score_bki           float64\n",
       "bki_request_cnt       int64\n",
       "region_rating         int64\n",
       "home_address          int64\n",
       "work_address          int64\n",
       "income                int64\n",
       "sna                   int64\n",
       "first_time            int64\n",
       "foreign_passport     object\n",
       "default               int64\n",
       "dtype: object"
      ]
     },
     "execution_count": 3,
     "metadata": {},
     "output_type": "execute_result"
    }
   ],
   "source": [
    "# Посмотрим на слотбцы датафрейма. \n",
    "train.dtypes"
   ]
  },
  {
   "cell_type": "code",
   "execution_count": 4,
   "id": "charming-israeli",
   "metadata": {
    "execution": {
     "iopub.execute_input": "2021-07-02T17:24:44.396340Z",
     "iopub.status.busy": "2021-07-02T17:24:44.395738Z",
     "iopub.status.idle": "2021-07-02T17:24:44.446604Z",
     "shell.execute_reply": "2021-07-02T17:24:44.446093Z",
     "shell.execute_reply.started": "2021-07-01T11:09:02.831632Z"
    },
    "papermill": {
     "duration": 0.134174,
     "end_time": "2021-07-02T17:24:44.446783",
     "exception": false,
     "start_time": "2021-07-02T17:24:44.312609",
     "status": "completed"
    },
    "tags": []
   },
   "outputs": [
    {
     "data": {
      "text/plain": [
       "client_id             0\n",
       "app_date              0\n",
       "education           307\n",
       "sex                   0\n",
       "age                   0\n",
       "car                   0\n",
       "car_type              0\n",
       "decline_app_cnt       0\n",
       "good_work             0\n",
       "score_bki             0\n",
       "bki_request_cnt       0\n",
       "region_rating         0\n",
       "home_address          0\n",
       "work_address          0\n",
       "income                0\n",
       "sna                   0\n",
       "first_time            0\n",
       "foreign_passport      0\n",
       "default               0\n",
       "dtype: int64"
      ]
     },
     "execution_count": 4,
     "metadata": {},
     "output_type": "execute_result"
    }
   ],
   "source": [
    "# Количество пропушенных значений в разрезе признаков по обоим датасетам\n",
    "\n",
    "train.isna().sum()"
   ]
  },
  {
   "cell_type": "code",
   "execution_count": 5,
   "id": "sticky-paris",
   "metadata": {
    "execution": {
     "iopub.execute_input": "2021-07-02T17:24:44.632545Z",
     "iopub.status.busy": "2021-07-02T17:24:44.631546Z",
     "iopub.status.idle": "2021-07-02T17:24:44.640253Z",
     "shell.execute_reply": "2021-07-02T17:24:44.639590Z",
     "shell.execute_reply.started": "2021-07-01T11:09:06.651163Z"
    },
    "papermill": {
     "duration": 0.113126,
     "end_time": "2021-07-02T17:24:44.640391",
     "exception": false,
     "start_time": "2021-07-02T17:24:44.527265",
     "status": "completed"
    },
    "tags": []
   },
   "outputs": [
    {
     "data": {
      "text/plain": [
       "client_id             0\n",
       "app_date              0\n",
       "education           171\n",
       "sex                   0\n",
       "age                   0\n",
       "car                   0\n",
       "car_type              0\n",
       "decline_app_cnt       0\n",
       "good_work             0\n",
       "score_bki             0\n",
       "bki_request_cnt       0\n",
       "region_rating         0\n",
       "home_address          0\n",
       "work_address          0\n",
       "income                0\n",
       "sna                   0\n",
       "first_time            0\n",
       "foreign_passport      0\n",
       "dtype: int64"
      ]
     },
     "execution_count": 5,
     "metadata": {},
     "output_type": "execute_result"
    }
   ],
   "source": [
    "test.isna().sum()"
   ]
  },
  {
   "cell_type": "code",
   "execution_count": 6,
   "id": "amino-nelson",
   "metadata": {
    "execution": {
     "iopub.execute_input": "2021-07-02T17:24:44.808508Z",
     "iopub.status.busy": "2021-07-02T17:24:44.807865Z",
     "iopub.status.idle": "2021-07-02T17:24:44.811443Z",
     "shell.execute_reply": "2021-07-02T17:24:44.810536Z"
    },
    "papermill": {
     "duration": 0.089758,
     "end_time": "2021-07-02T17:24:44.811760",
     "exception": true,
     "start_time": "2021-07-02T17:24:44.722002",
     "status": "failed"
    },
    "tags": []
   },
   "outputs": [
    {
     "ename": "SyntaxError",
     "evalue": "invalid syntax (<ipython-input-6-2826dcf76a95>, line 1)",
     "output_type": "error",
     "traceback": [
      "\u001b[0;36m  File \u001b[0;32m\"<ipython-input-6-2826dcf76a95>\"\u001b[0;36m, line \u001b[0;32m1\u001b[0m\n\u001b[0;31m    Так как единственных столбец который содержит пропуски - education, попробуем обработать его.\u001b[0m\n\u001b[0m          ^\u001b[0m\n\u001b[0;31mSyntaxError\u001b[0m\u001b[0;31m:\u001b[0m invalid syntax\n"
     ]
    }
   ],
   "source": [
    "Так как единственных столбец который содержит пропуски - education, попробуем обработать его."
   ]
  },
  {
   "cell_type": "code",
   "execution_count": null,
   "id": "negative-immigration",
   "metadata": {
    "execution": {
     "iopub.execute_input": "2021-06-29T12:55:25.375537Z",
     "iopub.status.busy": "2021-06-29T12:55:25.37505Z",
     "iopub.status.idle": "2021-06-29T12:55:25.622654Z",
     "shell.execute_reply": "2021-06-29T12:55:25.62152Z",
     "shell.execute_reply.started": "2021-06-29T12:55:25.375505Z"
    },
    "papermill": {
     "duration": null,
     "end_time": null,
     "exception": null,
     "start_time": null,
     "status": "pending"
    },
    "tags": []
   },
   "outputs": [],
   "source": [
    "train['education'].hist()"
   ]
  },
  {
   "cell_type": "code",
   "execution_count": null,
   "id": "worse-reform",
   "metadata": {
    "execution": {
     "iopub.execute_input": "2021-06-29T12:55:29.255263Z",
     "iopub.status.busy": "2021-06-29T12:55:29.254777Z",
     "iopub.status.idle": "2021-06-29T12:55:29.440374Z",
     "shell.execute_reply": "2021-06-29T12:55:29.439274Z",
     "shell.execute_reply.started": "2021-06-29T12:55:29.255219Z"
    },
    "papermill": {
     "duration": null,
     "end_time": null,
     "exception": null,
     "start_time": null,
     "status": "pending"
    },
    "tags": []
   },
   "outputs": [],
   "source": [
    "test['education'].hist()"
   ]
  },
  {
   "cell_type": "code",
   "execution_count": null,
   "id": "selective-heater",
   "metadata": {
    "execution": {
     "iopub.execute_input": "2021-07-02T16:46:55.739038Z",
     "iopub.status.busy": "2021-07-02T16:46:55.738675Z",
     "iopub.status.idle": "2021-07-02T16:46:55.784886Z",
     "shell.execute_reply": "2021-07-02T16:46:55.783820Z",
     "shell.execute_reply.started": "2021-07-02T16:46:55.739007Z"
    },
    "papermill": {
     "duration": null,
     "end_time": null,
     "exception": null,
     "start_time": null,
     "status": "pending"
    },
    "tags": []
   },
   "outputs": [],
   "source": [
    "# Значение SCH в обоих датасетах является наиболее часто встречаемым поэтому сделаем заполнение для train и test \n",
    "\n",
    "train_mode = train['education'].mode()\n",
    "train['education'].fillna(train_mode[0], inplace=True)\n",
    "train['education'].value_counts()"
   ]
  },
  {
   "cell_type": "code",
   "execution_count": null,
   "id": "atmospheric-wrist",
   "metadata": {
    "execution": {
     "iopub.execute_input": "2021-07-02T16:46:57.827093Z",
     "iopub.status.busy": "2021-07-02T16:46:57.826534Z",
     "iopub.status.idle": "2021-07-02T16:46:57.854279Z",
     "shell.execute_reply": "2021-07-02T16:46:57.853120Z",
     "shell.execute_reply.started": "2021-07-02T16:46:57.827043Z"
    },
    "papermill": {
     "duration": null,
     "end_time": null,
     "exception": null,
     "start_time": null,
     "status": "pending"
    },
    "tags": []
   },
   "outputs": [],
   "source": [
    "test_mode = test['education'].mode()\n",
    "test['education'].fillna(test_mode[0], inplace=True)\n",
    "test['education'].value_counts()"
   ]
  },
  {
   "cell_type": "markdown",
   "id": "featured-single",
   "metadata": {
    "papermill": {
     "duration": null,
     "end_time": null,
     "exception": null,
     "start_time": null,
     "status": "pending"
    },
    "tags": []
   },
   "source": [
    "Проанализируем каждый столбец на распределение и наличие выбросов"
   ]
  },
  {
   "cell_type": "code",
   "execution_count": null,
   "id": "retired-faith",
   "metadata": {
    "execution": {
     "iopub.execute_input": "2021-06-29T12:56:04.972919Z",
     "iopub.status.busy": "2021-06-29T12:56:04.972303Z",
     "iopub.status.idle": "2021-06-29T12:56:05.00314Z",
     "shell.execute_reply": "2021-06-29T12:56:05.001711Z",
     "shell.execute_reply.started": "2021-06-29T12:56:04.972878Z"
    },
    "papermill": {
     "duration": null,
     "end_time": null,
     "exception": null,
     "start_time": null,
     "status": "pending"
    },
    "tags": []
   },
   "outputs": [],
   "source": [
    "# Столбец с идентификатором клиента\n",
    "\n",
    "train['client_id'].value_counts()\n",
    "train['client_id'].sort_values()\n",
    "#train['client_id'].hist()"
   ]
  },
  {
   "cell_type": "code",
   "execution_count": null,
   "id": "flying-victoria",
   "metadata": {
    "execution": {
     "iopub.execute_input": "2021-06-29T12:56:21.049817Z",
     "iopub.status.busy": "2021-06-29T12:56:21.049261Z",
     "iopub.status.idle": "2021-06-29T12:56:21.067961Z",
     "shell.execute_reply": "2021-06-29T12:56:21.066857Z",
     "shell.execute_reply.started": "2021-06-29T12:56:21.049782Z"
    },
    "papermill": {
     "duration": null,
     "end_time": null,
     "exception": null,
     "start_time": null,
     "status": "pending"
    },
    "tags": []
   },
   "outputs": [],
   "source": [
    "test['client_id'].value_counts()\n",
    "test['client_id'].sort_values()"
   ]
  },
  {
   "cell_type": "markdown",
   "id": "buried-watson",
   "metadata": {
    "papermill": {
     "duration": null,
     "end_time": null,
     "exception": null,
     "start_time": null,
     "status": "pending"
    },
    "tags": []
   },
   "source": [
    "Все идентификаторы уникальны, т.е. нет повторяющихся и отрицательых значений"
   ]
  },
  {
   "cell_type": "code",
   "execution_count": null,
   "id": "dressed-staff",
   "metadata": {
    "execution": {
     "iopub.execute_input": "2021-07-01T10:08:53.35202Z",
     "iopub.status.busy": "2021-07-01T10:08:53.351607Z",
     "iopub.status.idle": "2021-07-01T10:08:53.626821Z",
     "shell.execute_reply": "2021-07-01T10:08:53.625745Z",
     "shell.execute_reply.started": "2021-07-01T10:08:53.351987Z"
    },
    "papermill": {
     "duration": null,
     "end_time": null,
     "exception": null,
     "start_time": null,
     "status": "pending"
    },
    "tags": []
   },
   "outputs": [],
   "source": [
    "# Пол клиента\n",
    "\n",
    "sns.countplot(x = train['sex'], data = train)\n",
    "train['sex'].value_counts()"
   ]
  },
  {
   "cell_type": "code",
   "execution_count": null,
   "id": "facial-offense",
   "metadata": {
    "execution": {
     "iopub.execute_input": "2021-07-01T10:09:00.269451Z",
     "iopub.status.busy": "2021-07-01T10:09:00.269057Z",
     "iopub.status.idle": "2021-07-01T10:09:00.470986Z",
     "shell.execute_reply": "2021-07-01T10:09:00.469818Z",
     "shell.execute_reply.started": "2021-07-01T10:09:00.269405Z"
    },
    "papermill": {
     "duration": null,
     "end_time": null,
     "exception": null,
     "start_time": null,
     "status": "pending"
    },
    "tags": []
   },
   "outputs": [],
   "source": [
    "sns.countplot(x = test['sex'], data = test)\n",
    "test['sex'].value_counts()"
   ]
  },
  {
   "cell_type": "markdown",
   "id": "collect-london",
   "metadata": {
    "papermill": {
     "duration": null,
     "end_time": null,
     "exception": null,
     "start_time": null,
     "status": "pending"
    },
    "tags": []
   },
   "source": [
    "Среди клиентов выбросов и некорректных знаений не содержит. Женщин среди клиентов немного больше чем мужчин"
   ]
  },
  {
   "cell_type": "code",
   "execution_count": null,
   "id": "subsequent-avatar",
   "metadata": {
    "execution": {
     "iopub.execute_input": "2021-06-30T11:17:21.201958Z",
     "iopub.status.busy": "2021-06-30T11:17:21.201532Z",
     "iopub.status.idle": "2021-06-30T11:17:21.223215Z",
     "shell.execute_reply": "2021-06-30T11:17:21.221047Z",
     "shell.execute_reply.started": "2021-06-30T11:17:21.201921Z"
    },
    "papermill": {
     "duration": null,
     "end_time": null,
     "exception": null,
     "start_time": null,
     "status": "pending"
    },
    "tags": []
   },
   "outputs": [],
   "source": [
    "# Возраст клиента\n",
    "\n",
    "#sns.countplot(x = train['age'], data = train)\n",
    "train['age'].hist()\n",
    "train['age'].groupby(train['age']).count()\n",
    "train['age'].value_counts()> 2000"
   ]
  },
  {
   "cell_type": "markdown",
   "id": "neither-damages",
   "metadata": {
    "papermill": {
     "duration": null,
     "end_time": null,
     "exception": null,
     "start_time": null,
     "status": "pending"
    },
    "tags": []
   },
   "source": [
    "По возрасту клиентов, видно, что самые молодые клиенты в возрасте 21 год, самый старый - 72 года (таких 2), средний возраст заемщика - 39 лет. Основная часть заемщиков находится в диапазоне от 25 до 39 лет \n"
   ]
  },
  {
   "cell_type": "code",
   "execution_count": null,
   "id": "south-access",
   "metadata": {
    "execution": {
     "iopub.execute_input": "2021-06-29T07:22:23.694173Z",
     "iopub.status.busy": "2021-06-29T07:22:23.693198Z",
     "iopub.status.idle": "2021-06-29T07:22:23.955955Z",
     "shell.execute_reply": "2021-06-29T07:22:23.95454Z",
     "shell.execute_reply.started": "2021-06-29T07:22:23.694125Z"
    },
    "papermill": {
     "duration": null,
     "end_time": null,
     "exception": null,
     "start_time": null,
     "status": "pending"
    },
    "tags": []
   },
   "outputs": [],
   "source": [
    "# Наличие автомобиля\n",
    "\n",
    "sns.countplot(x = train['car'], data = train)\n",
    "train['car'].value_counts()"
   ]
  },
  {
   "cell_type": "code",
   "execution_count": null,
   "id": "composite-safety",
   "metadata": {
    "execution": {
     "iopub.execute_input": "2021-06-29T07:23:19.747713Z",
     "iopub.status.busy": "2021-06-29T07:23:19.747169Z",
     "iopub.status.idle": "2021-06-29T07:23:19.92981Z",
     "shell.execute_reply": "2021-06-29T07:23:19.928609Z",
     "shell.execute_reply.started": "2021-06-29T07:23:19.747678Z"
    },
    "papermill": {
     "duration": null,
     "end_time": null,
     "exception": null,
     "start_time": null,
     "status": "pending"
    },
    "tags": []
   },
   "outputs": [],
   "source": [
    "sns.countplot(x = test['car'], data = test)\n",
    "test['car'].value_counts()"
   ]
  },
  {
   "cell_type": "markdown",
   "id": "three-conditioning",
   "metadata": {
    "papermill": {
     "duration": null,
     "end_time": null,
     "exception": null,
     "start_time": null,
     "status": "pending"
    },
    "tags": []
   },
   "source": [
    "Столбец наличие автомобиля, также выбросов не имеет все значения заполнены, клиентов не имеющих автомобиль в 2 раза больше, чем клиентов имеющих автомобиль"
   ]
  },
  {
   "cell_type": "code",
   "execution_count": null,
   "id": "verified-circle",
   "metadata": {
    "execution": {
     "iopub.execute_input": "2021-06-29T07:24:05.425683Z",
     "iopub.status.busy": "2021-06-29T07:24:05.425044Z",
     "iopub.status.idle": "2021-06-29T07:24:05.677722Z",
     "shell.execute_reply": "2021-06-29T07:24:05.677019Z",
     "shell.execute_reply.started": "2021-06-29T07:24:05.425628Z"
    },
    "papermill": {
     "duration": null,
     "end_time": null,
     "exception": null,
     "start_time": null,
     "status": "pending"
    },
    "tags": []
   },
   "outputs": [],
   "source": [
    "# Автомобиль иномарка\n",
    "\n",
    "sns.countplot(x = train['car_type'], data = train)\n",
    "train['car_type'].value_counts()"
   ]
  },
  {
   "cell_type": "code",
   "execution_count": null,
   "id": "further-stupid",
   "metadata": {
    "execution": {
     "iopub.execute_input": "2021-06-29T07:24:01.945651Z",
     "iopub.status.busy": "2021-06-29T07:24:01.945288Z",
     "iopub.status.idle": "2021-06-29T07:24:02.135042Z",
     "shell.execute_reply": "2021-06-29T07:24:02.134188Z",
     "shell.execute_reply.started": "2021-06-29T07:24:01.945621Z"
    },
    "papermill": {
     "duration": null,
     "end_time": null,
     "exception": null,
     "start_time": null,
     "status": "pending"
    },
    "tags": []
   },
   "outputs": [],
   "source": [
    "sns.countplot(x = test['car_type'], data = test)\n",
    "test['car_type'].value_counts()"
   ]
  },
  {
   "cell_type": "code",
   "execution_count": null,
   "id": "infectious-porcelain",
   "metadata": {
    "execution": {
     "iopub.execute_input": "2021-06-29T07:24:33.019043Z",
     "iopub.status.busy": "2021-06-29T07:24:33.018446Z",
     "iopub.status.idle": "2021-06-29T07:24:33.064858Z",
     "shell.execute_reply": "2021-06-29T07:24:33.064018Z",
     "shell.execute_reply.started": "2021-06-29T07:24:33.018959Z"
    },
    "papermill": {
     "duration": null,
     "end_time": null,
     "exception": null,
     "start_time": null,
     "status": "pending"
    },
    "tags": []
   },
   "outputs": [],
   "source": [
    "train[(train['car'] == 'N') & (train['car_type'] == 'Y')]"
   ]
  },
  {
   "cell_type": "code",
   "execution_count": null,
   "id": "unlimited-shadow",
   "metadata": {
    "execution": {
     "iopub.execute_input": "2021-06-29T07:31:34.830652Z",
     "iopub.status.busy": "2021-06-29T07:31:34.830271Z",
     "iopub.status.idle": "2021-06-29T07:31:34.856232Z",
     "shell.execute_reply": "2021-06-29T07:31:34.855041Z",
     "shell.execute_reply.started": "2021-06-29T07:31:34.83062Z"
    },
    "papermill": {
     "duration": null,
     "end_time": null,
     "exception": null,
     "start_time": null,
     "status": "pending"
    },
    "tags": []
   },
   "outputs": [],
   "source": [
    "test[(test['car'] == 'N') & (test['car_type'] == 'Y')]"
   ]
  },
  {
   "cell_type": "markdown",
   "id": "impressed-commons",
   "metadata": {
    "papermill": {
     "duration": null,
     "end_time": null,
     "exception": null,
     "start_time": null,
     "status": "pending"
    },
    "tags": []
   },
   "source": [
    "Столбец на наличие иномарки заполнен без пропусков, видно, что менее 20% заемщиков имеют в наличии иномарки. Данный автомобиль связан с предыдущим столбцом, наличием автомобиля. Если заемщик не имеет автомобиля, то соответственно столбец наличие иномарки должен быть заполнен также со значением \"N\", иначе будет считаться как не корректное заполнение столбца.  "
   ]
  },
  {
   "cell_type": "markdown",
   "id": "saving-rolling",
   "metadata": {
    "papermill": {
     "duration": null,
     "end_time": null,
     "exception": null,
     "start_time": null,
     "status": "pending"
    },
    "tags": []
   },
   "source": [
    "Можно сразу создать новый признак по наличию автомобиля, и наличию иномарки. Будем выставлять 0 - у кого отсутствует автомобиль, 1 - автомобиль отечественного производства, 2 - автомобиль иномарка"
   ]
  },
  {
   "cell_type": "code",
   "execution_count": null,
   "id": "angry-gamma",
   "metadata": {
    "execution": {
     "iopub.execute_input": "2021-07-02T16:47:11.783171Z",
     "iopub.status.busy": "2021-07-02T16:47:11.782781Z",
     "iopub.status.idle": "2021-07-02T16:47:13.025786Z",
     "shell.execute_reply": "2021-07-02T16:47:13.024648Z",
     "shell.execute_reply.started": "2021-07-02T16:47:11.783134Z"
    },
    "papermill": {
     "duration": null,
     "end_time": null,
     "exception": null,
     "start_time": null,
     "status": "pending"
    },
    "tags": []
   },
   "outputs": [],
   "source": [
    "c = []\n",
    "\n",
    "for i in train.car.index:\n",
    "    if train.car[i] == 'N':\n",
    "        c.append(0)\n",
    "    elif train.car_type[i] == 'N':\n",
    "        c.append(1)\n",
    "    else:\n",
    "        c.append(2)"
   ]
  },
  {
   "cell_type": "code",
   "execution_count": null,
   "id": "seventh-language",
   "metadata": {
    "execution": {
     "iopub.execute_input": "2021-07-02T16:47:13.028294Z",
     "iopub.status.busy": "2021-07-02T16:47:13.027847Z",
     "iopub.status.idle": "2021-07-02T16:47:13.071103Z",
     "shell.execute_reply": "2021-07-02T16:47:13.070357Z",
     "shell.execute_reply.started": "2021-07-02T16:47:13.028212Z"
    },
    "papermill": {
     "duration": null,
     "end_time": null,
     "exception": null,
     "start_time": null,
     "status": "pending"
    },
    "tags": []
   },
   "outputs": [],
   "source": [
    "train['car_all'] = pd.Series(c)\n",
    "train.car_all.value_counts()"
   ]
  },
  {
   "cell_type": "code",
   "execution_count": null,
   "id": "covered-function",
   "metadata": {
    "execution": {
     "iopub.execute_input": "2021-07-02T16:47:15.617382Z",
     "iopub.status.busy": "2021-07-02T16:47:15.616843Z",
     "iopub.status.idle": "2021-07-02T16:47:16.230967Z",
     "shell.execute_reply": "2021-07-02T16:47:16.230149Z",
     "shell.execute_reply.started": "2021-07-02T16:47:15.617334Z"
    },
    "papermill": {
     "duration": null,
     "end_time": null,
     "exception": null,
     "start_time": null,
     "status": "pending"
    },
    "tags": []
   },
   "outputs": [],
   "source": [
    "c = []\n",
    "\n",
    "for i in test.car.index:\n",
    "    if test.car[i] == 'N':\n",
    "        c.append(0)\n",
    "    elif test.car_type[i] == 'N':\n",
    "        c.append(1)\n",
    "    else:\n",
    "        c.append(2)"
   ]
  },
  {
   "cell_type": "code",
   "execution_count": null,
   "id": "detected-sender",
   "metadata": {
    "execution": {
     "iopub.execute_input": "2021-07-02T16:47:17.815191Z",
     "iopub.status.busy": "2021-07-02T16:47:17.814673Z",
     "iopub.status.idle": "2021-07-02T16:47:17.840806Z",
     "shell.execute_reply": "2021-07-02T16:47:17.839680Z",
     "shell.execute_reply.started": "2021-07-02T16:47:17.815148Z"
    },
    "papermill": {
     "duration": null,
     "end_time": null,
     "exception": null,
     "start_time": null,
     "status": "pending"
    },
    "tags": []
   },
   "outputs": [],
   "source": [
    "test['car_all'] = pd.Series(c)\n",
    "test.car_all.value_counts()"
   ]
  },
  {
   "cell_type": "code",
   "execution_count": null,
   "id": "second-master",
   "metadata": {
    "execution": {
     "iopub.execute_input": "2021-06-29T08:07:00.954579Z",
     "iopub.status.busy": "2021-06-29T08:07:00.953956Z",
     "iopub.status.idle": "2021-06-29T08:07:01.276351Z",
     "shell.execute_reply": "2021-06-29T08:07:01.275253Z",
     "shell.execute_reply.started": "2021-06-29T08:07:00.954538Z"
    },
    "papermill": {
     "duration": null,
     "end_time": null,
     "exception": null,
     "start_time": null,
     "status": "pending"
    },
    "tags": []
   },
   "outputs": [],
   "source": [
    "# Количество отказов \n",
    "\n",
    "sns.countplot(x = train['decline_app_cnt'], data = train)\n",
    "train['decline_app_cnt'].value_counts()"
   ]
  },
  {
   "cell_type": "code",
   "execution_count": null,
   "id": "certified-double",
   "metadata": {
    "execution": {
     "iopub.execute_input": "2021-06-29T08:08:04.853553Z",
     "iopub.status.busy": "2021-06-29T08:08:04.85303Z",
     "iopub.status.idle": "2021-06-29T08:08:05.113377Z",
     "shell.execute_reply": "2021-06-29T08:08:05.112265Z",
     "shell.execute_reply.started": "2021-06-29T08:08:04.853519Z"
    },
    "papermill": {
     "duration": null,
     "end_time": null,
     "exception": null,
     "start_time": null,
     "status": "pending"
    },
    "tags": []
   },
   "outputs": [],
   "source": [
    "sns.countplot(x = test['decline_app_cnt'], data = test)\n",
    "test['decline_app_cnt'].value_counts()"
   ]
  },
  {
   "cell_type": "markdown",
   "id": "union-belarus",
   "metadata": {
    "papermill": {
     "duration": null,
     "end_time": null,
     "exception": null,
     "start_time": null,
     "status": "pending"
    },
    "tags": []
   },
   "source": [
    "Количество отказов показывает, что большая часть клиентов не имеет отказов, от 15 до 33 отказов имеют по 1 клиенту."
   ]
  },
  {
   "cell_type": "code",
   "execution_count": null,
   "id": "cultural-tyler",
   "metadata": {
    "execution": {
     "iopub.execute_input": "2021-06-29T08:09:18.725666Z",
     "iopub.status.busy": "2021-06-29T08:09:18.725302Z",
     "iopub.status.idle": "2021-06-29T08:09:18.887058Z",
     "shell.execute_reply": "2021-06-29T08:09:18.886265Z",
     "shell.execute_reply.started": "2021-06-29T08:09:18.725635Z"
    },
    "papermill": {
     "duration": null,
     "end_time": null,
     "exception": null,
     "start_time": null,
     "status": "pending"
    },
    "tags": []
   },
   "outputs": [],
   "source": [
    "# Наличие хорошей работы\n",
    "\n",
    "sns.countplot(x = train['good_work'], data = train)\n",
    "train['good_work'].value_counts()"
   ]
  },
  {
   "cell_type": "code",
   "execution_count": null,
   "id": "handled-louisville",
   "metadata": {
    "execution": {
     "iopub.execute_input": "2021-06-29T08:09:47.935118Z",
     "iopub.status.busy": "2021-06-29T08:09:47.934671Z",
     "iopub.status.idle": "2021-06-29T08:09:48.084981Z",
     "shell.execute_reply": "2021-06-29T08:09:48.083922Z",
     "shell.execute_reply.started": "2021-06-29T08:09:47.93508Z"
    },
    "papermill": {
     "duration": null,
     "end_time": null,
     "exception": null,
     "start_time": null,
     "status": "pending"
    },
    "tags": []
   },
   "outputs": [],
   "source": [
    "sns.countplot(x = test['good_work'], data = test)\n",
    "test['good_work'].value_counts()"
   ]
  },
  {
   "cell_type": "markdown",
   "id": "acting-timber",
   "metadata": {
    "papermill": {
     "duration": null,
     "end_time": null,
     "exception": null,
     "start_time": null,
     "status": "pending"
    },
    "tags": []
   },
   "source": [
    "Столбец на наличие хорошей работы имеет значений 0 и 1. Не понятно, что считается хорошей работой, как она определяется. Видно, что большая часть клиентов, не имеют эту хорошую работу. Выбросов в данном столбце, нет, пропущенных значений нет."
   ]
  },
  {
   "cell_type": "code",
   "execution_count": null,
   "id": "reliable-skiing",
   "metadata": {
    "execution": {
     "iopub.execute_input": "2021-06-29T08:10:37.050227Z",
     "iopub.status.busy": "2021-06-29T08:10:37.049668Z",
     "iopub.status.idle": "2021-06-29T08:10:37.500252Z",
     "shell.execute_reply": "2021-06-29T08:10:37.499042Z",
     "shell.execute_reply.started": "2021-06-29T08:10:37.050172Z"
    },
    "papermill": {
     "duration": null,
     "end_time": null,
     "exception": null,
     "start_time": null,
     "status": "pending"
    },
    "tags": []
   },
   "outputs": [],
   "source": [
    "# количество запросов в БКИ\n",
    "\n",
    "sns.countplot(x = train['bki_request_cnt'], data = train)\n",
    "train['bki_request_cnt'].value_counts()"
   ]
  },
  {
   "cell_type": "code",
   "execution_count": null,
   "id": "strategic-arrangement",
   "metadata": {
    "execution": {
     "iopub.execute_input": "2021-06-29T08:10:30.346764Z",
     "iopub.status.busy": "2021-06-29T08:10:30.346398Z",
     "iopub.status.idle": "2021-06-29T08:10:30.706341Z",
     "shell.execute_reply": "2021-06-29T08:10:30.705029Z",
     "shell.execute_reply.started": "2021-06-29T08:10:30.346732Z"
    },
    "papermill": {
     "duration": null,
     "end_time": null,
     "exception": null,
     "start_time": null,
     "status": "pending"
    },
    "tags": []
   },
   "outputs": [],
   "source": [
    "sns.countplot(x = test['bki_request_cnt'], data = test)\n",
    "test['bki_request_cnt'].value_counts()"
   ]
  },
  {
   "cell_type": "markdown",
   "id": "brutal-metro",
   "metadata": {
    "papermill": {
     "duration": null,
     "end_time": null,
     "exception": null,
     "start_time": null,
     "status": "pending"
    },
    "tags": []
   },
   "source": [
    "Большинство клиентов либо вообще не имеют запросов в БКИ"
   ]
  },
  {
   "cell_type": "code",
   "execution_count": null,
   "id": "powered-silicon",
   "metadata": {
    "execution": {
     "iopub.execute_input": "2021-06-29T08:12:01.148908Z",
     "iopub.status.busy": "2021-06-29T08:12:01.148511Z",
     "iopub.status.idle": "2021-06-29T08:12:01.343207Z",
     "shell.execute_reply": "2021-06-29T08:12:01.341848Z",
     "shell.execute_reply.started": "2021-06-29T08:12:01.148873Z"
    },
    "papermill": {
     "duration": null,
     "end_time": null,
     "exception": null,
     "start_time": null,
     "status": "pending"
    },
    "tags": []
   },
   "outputs": [],
   "source": [
    "# Категоризатор домашнего адреса\n",
    "\n",
    "sns.countplot(x = train['home_address'], data = train)\n",
    "train['home_address'].value_counts()"
   ]
  },
  {
   "cell_type": "code",
   "execution_count": null,
   "id": "vocational-debate",
   "metadata": {
    "execution": {
     "iopub.execute_input": "2021-06-29T08:11:58.53754Z",
     "iopub.status.busy": "2021-06-29T08:11:58.537103Z",
     "iopub.status.idle": "2021-06-29T08:11:58.707907Z",
     "shell.execute_reply": "2021-06-29T08:11:58.706689Z",
     "shell.execute_reply.started": "2021-06-29T08:11:58.537505Z"
    },
    "papermill": {
     "duration": null,
     "end_time": null,
     "exception": null,
     "start_time": null,
     "status": "pending"
    },
    "tags": []
   },
   "outputs": [],
   "source": [
    "sns.countplot(x = test['home_address'], data = test)\n",
    "test['home_address'].value_counts()"
   ]
  },
  {
   "cell_type": "code",
   "execution_count": null,
   "id": "imperial-albert",
   "metadata": {
    "execution": {
     "iopub.execute_input": "2021-06-29T08:12:35.69856Z",
     "iopub.status.busy": "2021-06-29T08:12:35.69815Z",
     "iopub.status.idle": "2021-06-29T08:12:36.038305Z",
     "shell.execute_reply": "2021-06-29T08:12:36.037083Z",
     "shell.execute_reply.started": "2021-06-29T08:12:35.698526Z"
    },
    "papermill": {
     "duration": null,
     "end_time": null,
     "exception": null,
     "start_time": null,
     "status": "pending"
    },
    "tags": []
   },
   "outputs": [],
   "source": [
    "# Категоризатор рабочего адреса\n",
    "\n",
    "sns.countplot(x = train['work_address'], data = train)\n",
    "train['work_address'].value_counts()"
   ]
  },
  {
   "cell_type": "code",
   "execution_count": null,
   "id": "governmental-audio",
   "metadata": {
    "execution": {
     "iopub.execute_input": "2021-06-29T08:12:31.001199Z",
     "iopub.status.busy": "2021-06-29T08:12:31.000734Z",
     "iopub.status.idle": "2021-06-29T08:12:31.173471Z",
     "shell.execute_reply": "2021-06-29T08:12:31.172289Z",
     "shell.execute_reply.started": "2021-06-29T08:12:31.001163Z"
    },
    "papermill": {
     "duration": null,
     "end_time": null,
     "exception": null,
     "start_time": null,
     "status": "pending"
    },
    "tags": []
   },
   "outputs": [],
   "source": [
    "sns.countplot(x = train['work_address'], data = test)\n",
    "test['work_address'].value_counts()"
   ]
  },
  {
   "cell_type": "markdown",
   "id": "structural-westminster",
   "metadata": {
    "papermill": {
     "duration": null,
     "end_time": null,
     "exception": null,
     "start_time": null,
     "status": "pending"
    },
    "tags": []
   },
   "source": [
    "Категоризатор домашнего и рабочего адреса имеет категориальный признак и принимают значения от 1 до 3. Возможно он означает город, пригород и иной какой адрес проживания, и работы. "
   ]
  },
  {
   "cell_type": "code",
   "execution_count": null,
   "id": "coordinate-tokyo",
   "metadata": {
    "execution": {
     "iopub.execute_input": "2021-07-01T05:43:53.943726Z",
     "iopub.status.busy": "2021-07-01T05:43:53.943361Z",
     "iopub.status.idle": "2021-07-01T05:43:53.950968Z",
     "shell.execute_reply": "2021-07-01T05:43:53.950085Z",
     "shell.execute_reply.started": "2021-07-01T05:43:53.943695Z"
    },
    "papermill": {
     "duration": null,
     "end_time": null,
     "exception": null,
     "start_time": null,
     "status": "pending"
    },
    "tags": []
   },
   "outputs": [],
   "source": [
    "# Доход клиента\n",
    "\n",
    "print(train['income'].mean())\n",
    "print(train['income'].min())\n",
    "print(train['income'].max())"
   ]
  },
  {
   "cell_type": "code",
   "execution_count": null,
   "id": "federal-revolution",
   "metadata": {
    "execution": {
     "iopub.execute_input": "2021-07-02T16:48:37.880146Z",
     "iopub.status.busy": "2021-07-02T16:48:37.879520Z",
     "iopub.status.idle": "2021-07-02T16:48:48.916471Z",
     "shell.execute_reply": "2021-07-02T16:48:48.915630Z",
     "shell.execute_reply.started": "2021-07-02T16:48:37.880108Z"
    },
    "papermill": {
     "duration": null,
     "end_time": null,
     "exception": null,
     "start_time": null,
     "status": "pending"
    },
    "tags": []
   },
   "outputs": [],
   "source": [
    "# Сразу можно добавить новый признак, который будет показывать, уровень зарплаты выше среднего или ниже. Будем проставлять соответственно 1 или 0\n",
    "train['income_mean'] = train.income.apply(lambda x: 1 if x > train.income.mean() else 0)"
   ]
  },
  {
   "cell_type": "code",
   "execution_count": null,
   "id": "built-survivor",
   "metadata": {
    "execution": {
     "iopub.execute_input": "2021-07-02T16:48:50.688611Z",
     "iopub.status.busy": "2021-07-02T16:48:50.688227Z",
     "iopub.status.idle": "2021-07-02T16:48:54.694354Z",
     "shell.execute_reply": "2021-07-02T16:48:54.693376Z",
     "shell.execute_reply.started": "2021-07-02T16:48:50.688580Z"
    },
    "papermill": {
     "duration": null,
     "end_time": null,
     "exception": null,
     "start_time": null,
     "status": "pending"
    },
    "tags": []
   },
   "outputs": [],
   "source": [
    "# Выполним тоже самое для тестовой выборки\n",
    "test['income_mean'] = test.income.apply(lambda x: 1 if x > test.income.mean() else 0)"
   ]
  },
  {
   "cell_type": "code",
   "execution_count": null,
   "id": "wicked-harbor",
   "metadata": {
    "execution": {
     "iopub.execute_input": "2021-07-01T05:43:58.169728Z",
     "iopub.status.busy": "2021-07-01T05:43:58.169403Z",
     "iopub.status.idle": "2021-07-01T05:43:58.177421Z",
     "shell.execute_reply": "2021-07-01T05:43:58.176317Z",
     "shell.execute_reply.started": "2021-07-01T05:43:58.169701Z"
    },
    "papermill": {
     "duration": null,
     "end_time": null,
     "exception": null,
     "start_time": null,
     "status": "pending"
    },
    "tags": []
   },
   "outputs": [],
   "source": [
    "print(test['income'].mean())\n",
    "print(test['income'].min())\n",
    "print(test['income'].max())"
   ]
  },
  {
   "cell_type": "markdown",
   "id": "indian-belle",
   "metadata": {
    "papermill": {
     "duration": null,
     "end_time": null,
     "exception": null,
     "start_time": null,
     "status": "pending"
    },
    "tags": []
   },
   "source": [
    "По доходу клиента, видно, что средний доход равен - 40000руб., минимальный - 1000, максимальный - 1млн."
   ]
  },
  {
   "cell_type": "code",
   "execution_count": null,
   "id": "located-benjamin",
   "metadata": {
    "execution": {
     "iopub.execute_input": "2021-06-29T08:38:24.761518Z",
     "iopub.status.busy": "2021-06-29T08:38:24.760926Z",
     "iopub.status.idle": "2021-06-29T08:38:24.948809Z",
     "shell.execute_reply": "2021-06-29T08:38:24.947912Z",
     "shell.execute_reply.started": "2021-06-29T08:38:24.76148Z"
    },
    "papermill": {
     "duration": null,
     "end_time": null,
     "exception": null,
     "start_time": null,
     "status": "pending"
    },
    "tags": []
   },
   "outputs": [],
   "source": [
    "# Связь заемщика с сотрудником банка\n",
    "\n",
    "sns.countplot(x = train['sna'], data = train)\n",
    "train['sna'].value_counts()"
   ]
  },
  {
   "cell_type": "code",
   "execution_count": null,
   "id": "planned-observer",
   "metadata": {
    "execution": {
     "iopub.execute_input": "2021-06-29T08:39:41.182219Z",
     "iopub.status.busy": "2021-06-29T08:39:41.181702Z",
     "iopub.status.idle": "2021-06-29T08:39:41.355136Z",
     "shell.execute_reply": "2021-06-29T08:39:41.354084Z",
     "shell.execute_reply.started": "2021-06-29T08:39:41.182174Z"
    },
    "papermill": {
     "duration": null,
     "end_time": null,
     "exception": null,
     "start_time": null,
     "status": "pending"
    },
    "tags": []
   },
   "outputs": [],
   "source": [
    "sns.countplot(x = test['sna'], data = test)\n",
    "test['sna'].value_counts()"
   ]
  },
  {
   "cell_type": "markdown",
   "id": "alpine-pennsylvania",
   "metadata": {
    "papermill": {
     "duration": null,
     "end_time": null,
     "exception": null,
     "start_time": null,
     "status": "pending"
    },
    "tags": []
   },
   "source": [
    "Связь заемщика с сотрудником банка указана в значениях от 1 до 4. У больше половины клиентов указано значение 1, возможно это вообще отсутствие связи с сотрудников, либо связь с сотрудников банка минимальна."
   ]
  },
  {
   "cell_type": "code",
   "execution_count": null,
   "id": "reverse-cycle",
   "metadata": {
    "execution": {
     "iopub.execute_input": "2021-06-29T08:41:06.144676Z",
     "iopub.status.busy": "2021-06-29T08:41:06.144082Z",
     "iopub.status.idle": "2021-06-29T08:41:06.328515Z",
     "shell.execute_reply": "2021-06-29T08:41:06.327341Z",
     "shell.execute_reply.started": "2021-06-29T08:41:06.144623Z"
    },
    "papermill": {
     "duration": null,
     "end_time": null,
     "exception": null,
     "start_time": null,
     "status": "pending"
    },
    "tags": []
   },
   "outputs": [],
   "source": [
    "# давность наличия информации о заемщике\n",
    "\n",
    "sns.countplot(x = train['first_time'], data = train)\n",
    "train['first_time'].value_counts()"
   ]
  },
  {
   "cell_type": "code",
   "execution_count": null,
   "id": "compact-joseph",
   "metadata": {
    "execution": {
     "iopub.execute_input": "2021-06-29T08:41:49.476782Z",
     "iopub.status.busy": "2021-06-29T08:41:49.476412Z",
     "iopub.status.idle": "2021-06-29T08:41:49.650278Z",
     "shell.execute_reply": "2021-06-29T08:41:49.648841Z",
     "shell.execute_reply.started": "2021-06-29T08:41:49.476751Z"
    },
    "papermill": {
     "duration": null,
     "end_time": null,
     "exception": null,
     "start_time": null,
     "status": "pending"
    },
    "tags": []
   },
   "outputs": [],
   "source": [
    "sns.countplot(x = test['first_time'], data = test)\n",
    "test['first_time'].value_counts()"
   ]
  },
  {
   "cell_type": "markdown",
   "id": "motivated-athens",
   "metadata": {
    "papermill": {
     "duration": null,
     "end_time": null,
     "exception": null,
     "start_time": null,
     "status": "pending"
    },
    "tags": []
   },
   "source": [
    "Давность наличия информации о заемщике имеет также категориальный признак со значениями от 1 до 4. Почти половина клиентов имееет значений равно = 3."
   ]
  },
  {
   "cell_type": "code",
   "execution_count": null,
   "id": "purple-trick",
   "metadata": {
    "execution": {
     "iopub.execute_input": "2021-06-29T08:43:04.597981Z",
     "iopub.status.busy": "2021-06-29T08:43:04.5976Z",
     "iopub.status.idle": "2021-06-29T08:43:04.789336Z",
     "shell.execute_reply": "2021-06-29T08:43:04.788208Z",
     "shell.execute_reply.started": "2021-06-29T08:43:04.597948Z"
    },
    "papermill": {
     "duration": null,
     "end_time": null,
     "exception": null,
     "start_time": null,
     "status": "pending"
    },
    "tags": []
   },
   "outputs": [],
   "source": [
    "# скоринговый балл по данным из БКИ\n",
    "\n",
    "train['score_bki'].hist()\n",
    "print('Максимальный скорринговый бал равен =', train['score_bki'].max(), 'Минимальный скоринговый бал равен = ', train['score_bki'].min())"
   ]
  },
  {
   "cell_type": "code",
   "execution_count": null,
   "id": "commercial-hampton",
   "metadata": {
    "execution": {
     "iopub.execute_input": "2021-06-29T08:43:59.531797Z",
     "iopub.status.busy": "2021-06-29T08:43:59.531385Z",
     "iopub.status.idle": "2021-06-29T08:43:59.705047Z",
     "shell.execute_reply": "2021-06-29T08:43:59.704198Z",
     "shell.execute_reply.started": "2021-06-29T08:43:59.531763Z"
    },
    "papermill": {
     "duration": null,
     "end_time": null,
     "exception": null,
     "start_time": null,
     "status": "pending"
    },
    "tags": []
   },
   "outputs": [],
   "source": [
    "test['score_bki'].hist()\n",
    "print('Максимальный скорринговый бал равен =', test['score_bki'].max(), 'Минимальный скоринговый бал равен = ', test['score_bki'].min())"
   ]
  },
  {
   "cell_type": "markdown",
   "id": "surprised-aside",
   "metadata": {
    "papermill": {
     "duration": null,
     "end_time": null,
     "exception": null,
     "start_time": null,
     "status": "pending"
    },
    "tags": []
   },
   "source": [
    "Большинство клиентов имеют скориновый балл от -2.5 до -1.5 Не знаем как он рассчитавыется от чего зависит и какие значения являются нормальными, поэтому оставим пока как есть. "
   ]
  },
  {
   "cell_type": "code",
   "execution_count": null,
   "id": "irish-conservation",
   "metadata": {
    "execution": {
     "iopub.execute_input": "2021-06-29T08:44:34.167311Z",
     "iopub.status.busy": "2021-06-29T08:44:34.166894Z",
     "iopub.status.idle": "2021-06-29T08:44:34.359853Z",
     "shell.execute_reply": "2021-06-29T08:44:34.358865Z",
     "shell.execute_reply.started": "2021-06-29T08:44:34.167276Z"
    },
    "papermill": {
     "duration": null,
     "end_time": null,
     "exception": null,
     "start_time": null,
     "status": "pending"
    },
    "tags": []
   },
   "outputs": [],
   "source": [
    "# рейтинг региона\n",
    "\n",
    "sns.countplot(x = train['region_rating'], data = train)\n",
    "train['region_rating'].value_counts()"
   ]
  },
  {
   "cell_type": "code",
   "execution_count": null,
   "id": "numeric-independence",
   "metadata": {
    "execution": {
     "iopub.execute_input": "2021-06-29T08:45:02.8559Z",
     "iopub.status.busy": "2021-06-29T08:45:02.855529Z",
     "iopub.status.idle": "2021-06-29T08:45:03.059274Z",
     "shell.execute_reply": "2021-06-29T08:45:03.058231Z",
     "shell.execute_reply.started": "2021-06-29T08:45:02.855871Z"
    },
    "papermill": {
     "duration": null,
     "end_time": null,
     "exception": null,
     "start_time": null,
     "status": "pending"
    },
    "tags": []
   },
   "outputs": [],
   "source": [
    "sns.countplot(x = test['region_rating'], data = test)\n",
    "test['region_rating'].value_counts()"
   ]
  },
  {
   "cell_type": "markdown",
   "id": "willing-emphasis",
   "metadata": {
    "papermill": {
     "duration": null,
     "end_time": null,
     "exception": null,
     "start_time": null,
     "status": "pending"
    },
    "tags": []
   },
   "source": [
    "Столбец рейтинга имеет категориальный признак. Имеет значения от 20 до 80. Больше половины клиентов находятся в рейтинге региона имеюзего значение 50 и 60"
   ]
  },
  {
   "cell_type": "code",
   "execution_count": null,
   "id": "greek-windsor",
   "metadata": {
    "execution": {
     "iopub.execute_input": "2021-06-29T08:45:51.364422Z",
     "iopub.status.busy": "2021-06-29T08:45:51.364081Z",
     "iopub.status.idle": "2021-06-29T08:45:51.627287Z",
     "shell.execute_reply": "2021-06-29T08:45:51.626093Z",
     "shell.execute_reply.started": "2021-06-29T08:45:51.364392Z"
    },
    "papermill": {
     "duration": null,
     "end_time": null,
     "exception": null,
     "start_time": null,
     "status": "pending"
    },
    "tags": []
   },
   "outputs": [],
   "source": [
    "# налииче загранпаспорта\n",
    "\n",
    "sns.countplot(x = train['foreign_passport'], data = train)\n",
    "train['foreign_passport'].value_counts()"
   ]
  },
  {
   "cell_type": "code",
   "execution_count": null,
   "id": "wound-screw",
   "metadata": {
    "execution": {
     "iopub.execute_input": "2021-06-29T08:45:46.819606Z",
     "iopub.status.busy": "2021-06-29T08:45:46.818915Z",
     "iopub.status.idle": "2021-06-29T08:45:47.010035Z",
     "shell.execute_reply": "2021-06-29T08:45:47.008751Z",
     "shell.execute_reply.started": "2021-06-29T08:45:46.819567Z"
    },
    "papermill": {
     "duration": null,
     "end_time": null,
     "exception": null,
     "start_time": null,
     "status": "pending"
    },
    "tags": []
   },
   "outputs": [],
   "source": [
    "sns.countplot(x = test['foreign_passport'], data = test)\n",
    "test['foreign_passport'].value_counts()"
   ]
  },
  {
   "cell_type": "markdown",
   "id": "removable-blocking",
   "metadata": {
    "papermill": {
     "duration": null,
     "end_time": null,
     "exception": null,
     "start_time": null,
     "status": "pending"
    },
    "tags": []
   },
   "source": [
    "Столбец наличие заграпаспорта имеет бинарный признак. Видно что большинство клиентов указывают об отсутствии загранпаспорта."
   ]
  },
  {
   "cell_type": "markdown",
   "id": "surprised-truck",
   "metadata": {
    "papermill": {
     "duration": null,
     "end_time": null,
     "exception": null,
     "start_time": null,
     "status": "pending"
    },
    "tags": []
   },
   "source": [
    "Для обучения нашего датасета, необходимо перевести все признаки в числовой вид. У нас есть бинарные признаки ('sex', 'car', 'car_type', 'foreign_passport', 'good_work') а также признак в формате даты."
   ]
  },
  {
   "cell_type": "code",
   "execution_count": null,
   "id": "wound-israeli",
   "metadata": {
    "execution": {
     "iopub.execute_input": "2021-07-02T16:47:58.760968Z",
     "iopub.status.busy": "2021-07-02T16:47:58.760419Z",
     "iopub.status.idle": "2021-07-02T16:48:00.195619Z",
     "shell.execute_reply": "2021-07-02T16:48:00.194679Z",
     "shell.execute_reply.started": "2021-07-02T16:47:58.760936Z"
    },
    "papermill": {
     "duration": null,
     "end_time": null,
     "exception": null,
     "start_time": null,
     "status": "pending"
    },
    "tags": []
   },
   "outputs": [],
   "source": [
    "# Выполним преобразование даты с мопощью модуля datetime\n",
    "\n",
    "train['app_date'] = train.app_date.apply(lambda x: datetime.strptime(x, '%d%b%Y'))\n",
    "test['app_date'] = test.app_date.apply(lambda x: datetime.strptime(x, '%d%b%Y'))"
   ]
  },
  {
   "cell_type": "code",
   "execution_count": null,
   "id": "patent-field",
   "metadata": {
    "execution": {
     "iopub.execute_input": "2021-07-02T16:48:01.765122Z",
     "iopub.status.busy": "2021-07-02T16:48:01.764773Z",
     "iopub.status.idle": "2021-07-02T16:48:03.924698Z",
     "shell.execute_reply": "2021-07-02T16:48:03.923761Z",
     "shell.execute_reply.started": "2021-07-02T16:48:01.765093Z"
    },
    "papermill": {
     "duration": null,
     "end_time": null,
     "exception": null,
     "start_time": null,
     "status": "pending"
    },
    "tags": []
   },
   "outputs": [],
   "source": [
    "# Создадим 3 столбца, куда поместим день, месяц а также день недели. (Так как год указан 2014, его брать не будем)\n",
    "\n",
    "train['day'] = train.app_date.apply(lambda s: s.day)\n",
    "train['month'] = train.app_date.apply(lambda s: s.month)\n",
    "train['weekday'] = train.app_date.apply(lambda s: s.weekday())\n",
    "\n",
    "test['day'] = test.app_date.apply(lambda s: s.day)\n",
    "test['month'] = test.app_date.apply(lambda s: s.month)\n",
    "test['weekday'] = test.app_date.apply(lambda s: s.weekday())"
   ]
  },
  {
   "cell_type": "code",
   "execution_count": null,
   "id": "likely-interpretation",
   "metadata": {
    "execution": {
     "iopub.execute_input": "2021-07-02T16:48:05.365687Z",
     "iopub.status.busy": "2021-07-02T16:48:05.365172Z",
     "iopub.status.idle": "2021-07-02T16:48:06.844413Z",
     "shell.execute_reply": "2021-07-02T16:48:06.843663Z",
     "shell.execute_reply.started": "2021-07-02T16:48:05.365655Z"
    },
    "papermill": {
     "duration": null,
     "end_time": null,
     "exception": null,
     "start_time": null,
     "status": "pending"
    },
    "tags": []
   },
   "outputs": [],
   "source": [
    "# Выведем разницу дней относительно начальной датой подачи заявки\n",
    "date_min = train['app_date'].min()\n",
    "train['date_count'] = train.app_date.apply(lambda x: (x - date_min).days)"
   ]
  },
  {
   "cell_type": "code",
   "execution_count": null,
   "id": "numerous-champion",
   "metadata": {
    "execution": {
     "iopub.execute_input": "2021-07-02T16:48:09.838565Z",
     "iopub.status.busy": "2021-07-02T16:48:09.838044Z",
     "iopub.status.idle": "2021-07-02T16:48:10.626400Z",
     "shell.execute_reply": "2021-07-02T16:48:10.625576Z",
     "shell.execute_reply.started": "2021-07-02T16:48:09.838526Z"
    },
    "papermill": {
     "duration": null,
     "end_time": null,
     "exception": null,
     "start_time": null,
     "status": "pending"
    },
    "tags": []
   },
   "outputs": [],
   "source": [
    "date_min = test['app_date'].min()\n",
    "test['date_count'] = test.app_date.apply(lambda x: (x - date_min).days)"
   ]
  },
  {
   "cell_type": "code",
   "execution_count": null,
   "id": "impressed-number",
   "metadata": {
    "execution": {
     "iopub.execute_input": "2021-07-01T08:40:07.480846Z",
     "iopub.status.busy": "2021-07-01T08:40:07.480374Z",
     "iopub.status.idle": "2021-07-01T08:40:07.541766Z",
     "shell.execute_reply": "2021-07-01T08:40:07.540585Z",
     "shell.execute_reply.started": "2021-07-01T08:40:07.480806Z"
    },
    "papermill": {
     "duration": null,
     "end_time": null,
     "exception": null,
     "start_time": null,
     "status": "pending"
    },
    "tags": []
   },
   "outputs": [],
   "source": [
    "# Посмотрим на количество уникальных значений по признакам\n",
    "\n",
    "train.nunique()"
   ]
  },
  {
   "cell_type": "code",
   "execution_count": null,
   "id": "surrounded-study",
   "metadata": {
    "execution": {
     "iopub.execute_input": "2021-07-01T05:52:23.956104Z",
     "iopub.status.busy": "2021-07-01T05:52:23.955732Z",
     "iopub.status.idle": "2021-07-01T05:52:24.01089Z",
     "shell.execute_reply": "2021-07-01T05:52:24.009918Z",
     "shell.execute_reply.started": "2021-07-01T05:52:23.956069Z"
    },
    "papermill": {
     "duration": null,
     "end_time": null,
     "exception": null,
     "start_time": null,
     "status": "pending"
    },
    "tags": []
   },
   "outputs": [],
   "source": [
    "test.nunique()"
   ]
  },
  {
   "cell_type": "markdown",
   "id": "nervous-cemetery",
   "metadata": {
    "papermill": {
     "duration": null,
     "end_time": null,
     "exception": null,
     "start_time": null,
     "status": "pending"
    },
    "tags": []
   },
   "source": [
    "Сделаем разбиение на бинарные, категориальные и количественные группы все признаки"
   ]
  },
  {
   "cell_type": "code",
   "execution_count": null,
   "id": "sought-howard",
   "metadata": {
    "execution": {
     "iopub.execute_input": "2021-07-02T16:49:09.354105Z",
     "iopub.status.busy": "2021-07-02T16:49:09.353710Z",
     "iopub.status.idle": "2021-07-02T16:49:09.358848Z",
     "shell.execute_reply": "2021-07-02T16:49:09.358083Z",
     "shell.execute_reply.started": "2021-07-02T16:49:09.354070Z"
    },
    "papermill": {
     "duration": null,
     "end_time": null,
     "exception": null,
     "start_time": null,
     "status": "pending"
    },
    "tags": []
   },
   "outputs": [],
   "source": [
    "bin_cols = ['sex', 'foreign_passport', 'good_work', 'income_mean']\n",
    "cat_cools = ['education', 'car', 'car_type', 'car_all', 'home_address', 'work_address', 'region_rating', 'sna', 'first_time', 'weekday', 'month']\n",
    "num_cols = ['age', 'decline_app_cnt', 'income', 'bki_request_cnt', 'score_bki', 'day', 'date_count']"
   ]
  },
  {
   "cell_type": "markdown",
   "id": "provincial-heath",
   "metadata": {
    "papermill": {
     "duration": null,
     "end_time": null,
     "exception": null,
     "start_time": null,
     "status": "pending"
    },
    "tags": []
   },
   "source": [
    "Представим бинарные признаки в числовом формате"
   ]
  },
  {
   "cell_type": "code",
   "execution_count": null,
   "id": "selected-sudan",
   "metadata": {
    "execution": {
     "iopub.execute_input": "2021-07-02T16:49:11.957946Z",
     "iopub.status.busy": "2021-07-02T16:49:11.957429Z",
     "iopub.status.idle": "2021-07-02T16:49:11.974649Z",
     "shell.execute_reply": "2021-07-02T16:49:11.973667Z",
     "shell.execute_reply.started": "2021-07-02T16:49:11.957902Z"
    },
    "papermill": {
     "duration": null,
     "end_time": null,
     "exception": null,
     "start_time": null,
     "status": "pending"
    },
    "tags": []
   },
   "outputs": [],
   "source": [
    "label_encoder = LabelEncoder()\n",
    "\n",
    "for column in bin_cols:\n",
    "    train[column] = label_encoder.fit_transform(train[column])"
   ]
  },
  {
   "cell_type": "code",
   "execution_count": null,
   "id": "arabic-posting",
   "metadata": {
    "execution": {
     "iopub.execute_input": "2021-07-02T16:49:14.232689Z",
     "iopub.status.busy": "2021-07-02T16:49:14.232160Z",
     "iopub.status.idle": "2021-07-02T16:49:14.268574Z",
     "shell.execute_reply": "2021-07-02T16:49:14.267817Z",
     "shell.execute_reply.started": "2021-07-02T16:49:14.232657Z"
    },
    "papermill": {
     "duration": null,
     "end_time": null,
     "exception": null,
     "start_time": null,
     "status": "pending"
    },
    "tags": []
   },
   "outputs": [],
   "source": [
    "label_encoder = LabelEncoder()\n",
    "\n",
    "for column in bin_cols:\n",
    "    test[column] = label_encoder.fit_transform(test[column])"
   ]
  },
  {
   "cell_type": "code",
   "execution_count": null,
   "id": "japanese-compatibility",
   "metadata": {
    "execution": {
     "iopub.execute_input": "2021-07-01T08:42:32.12797Z",
     "iopub.status.busy": "2021-07-01T08:42:32.1273Z",
     "iopub.status.idle": "2021-07-01T08:42:33.820392Z",
     "shell.execute_reply": "2021-07-01T08:42:33.819244Z",
     "shell.execute_reply.started": "2021-07-01T08:42:32.127899Z"
    },
    "papermill": {
     "duration": null,
     "end_time": null,
     "exception": null,
     "start_time": null,
     "status": "pending"
    },
    "tags": []
   },
   "outputs": [],
   "source": [
    "for col in num_cols:\n",
    "    plt.figure()\n",
    "    sns.distplot(train[col], kde=False, rug=False)\n",
    "    plt.title(col)\n",
    "    plt.show()"
   ]
  },
  {
   "cell_type": "markdown",
   "id": "unusual-necklace",
   "metadata": {
    "papermill": {
     "duration": null,
     "end_time": null,
     "exception": null,
     "start_time": null,
     "status": "pending"
    },
    "tags": []
   },
   "source": [
    "Проверим количественные признаки на выбросы"
   ]
  },
  {
   "cell_type": "code",
   "execution_count": null,
   "id": "proved-kernel",
   "metadata": {
    "execution": {
     "iopub.execute_input": "2021-07-01T10:12:36.169825Z",
     "iopub.status.busy": "2021-07-01T10:12:36.169212Z",
     "iopub.status.idle": "2021-07-01T10:12:36.237463Z",
     "shell.execute_reply": "2021-07-01T10:12:36.236349Z",
     "shell.execute_reply.started": "2021-07-01T10:12:36.169788Z"
    },
    "papermill": {
     "duration": null,
     "end_time": null,
     "exception": null,
     "start_time": null,
     "status": "pending"
    },
    "tags": []
   },
   "outputs": [],
   "source": [
    "for col in num_cols:\n",
    "    IQR = train[col].quantile(0.75) - train[col].quantile(0.25)\n",
    "    perc25 = train[col].quantile(0.25)  # 25-й перцентиль\n",
    "    perc75 = train[col].quantile(0.75)  # 75-й перцентиль\n",
    "\n",
    "    print(\n",
    "        f'Название столбца:{col} '\n",
    "        '25-й перцентиль: {},'.format(perc25),\n",
    "        '75-й перцентиль: {},'.format(perc75),\n",
    "        \"IQR: {}, \".format(IQR),\n",
    "        \"Границы выбросов: [{f}, {l}].\".format(f=perc25 - 1.5*IQR,\n",
    "                                               l=perc75 + 1.5*IQR))"
   ]
  },
  {
   "cell_type": "markdown",
   "id": "moving-antenna",
   "metadata": {
    "papermill": {
     "duration": null,
     "end_time": null,
     "exception": null,
     "start_time": null,
     "status": "pending"
    },
    "tags": []
   },
   "source": [
    "для тестовой выборки"
   ]
  },
  {
   "cell_type": "code",
   "execution_count": null,
   "id": "otherwise-qatar",
   "metadata": {
    "execution": {
     "iopub.execute_input": "2021-07-01T10:12:39.247226Z",
     "iopub.status.busy": "2021-07-01T10:12:39.246835Z",
     "iopub.status.idle": "2021-07-01T10:12:39.302327Z",
     "shell.execute_reply": "2021-07-01T10:12:39.30118Z",
     "shell.execute_reply.started": "2021-07-01T10:12:39.247186Z"
    },
    "papermill": {
     "duration": null,
     "end_time": null,
     "exception": null,
     "start_time": null,
     "status": "pending"
    },
    "tags": []
   },
   "outputs": [],
   "source": [
    "for col in num_cols:\n",
    "    IQR = test[col].quantile(0.75) - test[col].quantile(0.25)\n",
    "    perc25 = test[col].quantile(0.25)  # 25-й перцентиль\n",
    "    perc75 = test[col].quantile(0.75)  # 75-й перцентиль\n",
    "\n",
    "    print(\n",
    "        f'Название столбца:{col} '\n",
    "        '25-й перцентиль: {},'.format(perc25),\n",
    "        '75-й перцентиль: {},'.format(perc75),\n",
    "        \"IQR: {}, \".format(IQR),\n",
    "        \"Границы выбросов: [{f}, {l}].\".format(f=perc25 - 1.5*IQR,\n",
    "                                               l=perc75 + 1.5*IQR))"
   ]
  },
  {
   "cell_type": "code",
   "execution_count": null,
   "id": "motivated-respect",
   "metadata": {
    "execution": {
     "iopub.execute_input": "2021-07-01T06:12:26.04572Z",
     "iopub.status.busy": "2021-07-01T06:12:26.04529Z",
     "iopub.status.idle": "2021-07-01T06:12:27.568034Z",
     "shell.execute_reply": "2021-07-01T06:12:27.567018Z",
     "shell.execute_reply.started": "2021-07-01T06:12:26.045681Z"
    },
    "papermill": {
     "duration": null,
     "end_time": null,
     "exception": null,
     "start_time": null,
     "status": "pending"
    },
    "tags": []
   },
   "outputs": [],
   "source": [
    "for i in num_cols:\n",
    "    plt.figure()\n",
    "    sns.distplot(test[i][test[i] > 0].dropna(), kde = False, rug=False)\n",
    "    plt.title(i)\n",
    "    plt.show()"
   ]
  },
  {
   "cell_type": "code",
   "execution_count": null,
   "id": "suitable-connecticut",
   "metadata": {
    "papermill": {
     "duration": null,
     "end_time": null,
     "exception": null,
     "start_time": null,
     "status": "pending"
    },
    "tags": []
   },
   "outputs": [],
   "source": [
    "num_cols_log = ['age', 'decline_app_cnt',\n",
    "                'bki_request_cnt', 'income', 'app_age']\n",
    "for col in num_cols_log:\n",
    "    df[col] = np.log(df[col] + 1)"
   ]
  },
  {
   "cell_type": "markdown",
   "id": "adjustable-haven",
   "metadata": {
    "papermill": {
     "duration": null,
     "end_time": null,
     "exception": null,
     "start_time": null,
     "status": "pending"
    },
    "tags": []
   },
   "source": [
    "Категориальные признаки переведем в числовой формат, для дальнейшей обработки"
   ]
  },
  {
   "cell_type": "code",
   "execution_count": null,
   "id": "detected-electric",
   "metadata": {
    "execution": {
     "iopub.execute_input": "2021-07-02T16:49:32.638014Z",
     "iopub.status.busy": "2021-07-02T16:49:32.637391Z",
     "iopub.status.idle": "2021-07-02T16:49:32.749661Z",
     "shell.execute_reply": "2021-07-02T16:49:32.748839Z",
     "shell.execute_reply.started": "2021-07-02T16:49:32.637980Z"
    },
    "papermill": {
     "duration": null,
     "end_time": null,
     "exception": null,
     "start_time": null,
     "status": "pending"
    },
    "tags": []
   },
   "outputs": [],
   "source": [
    "for column in cat_cools:\n",
    "    train[column] = label_encoder.fit_transform(train[column])"
   ]
  },
  {
   "cell_type": "code",
   "execution_count": null,
   "id": "outer-paste",
   "metadata": {
    "execution": {
     "iopub.execute_input": "2021-07-02T16:49:34.594314Z",
     "iopub.status.busy": "2021-07-02T16:49:34.593641Z",
     "iopub.status.idle": "2021-07-02T16:49:34.653285Z",
     "shell.execute_reply": "2021-07-02T16:49:34.652575Z",
     "shell.execute_reply.started": "2021-07-02T16:49:34.594266Z"
    },
    "papermill": {
     "duration": null,
     "end_time": null,
     "exception": null,
     "start_time": null,
     "status": "pending"
    },
    "tags": []
   },
   "outputs": [],
   "source": [
    "for column in cat_cools:\n",
    "    test[column] = label_encoder.fit_transform(test[column])"
   ]
  },
  {
   "cell_type": "markdown",
   "id": "informed-thriller",
   "metadata": {
    "papermill": {
     "duration": null,
     "end_time": null,
     "exception": null,
     "start_time": null,
     "status": "pending"
    },
    "tags": []
   },
   "source": [
    "Построим тепловыю карту корреляции признаков"
   ]
  },
  {
   "cell_type": "code",
   "execution_count": null,
   "id": "occupational-tsunami",
   "metadata": {
    "execution": {
     "iopub.execute_input": "2021-07-01T07:49:07.340156Z",
     "iopub.status.busy": "2021-07-01T07:49:07.339733Z",
     "iopub.status.idle": "2021-07-01T07:49:07.915203Z",
     "shell.execute_reply": "2021-07-01T07:49:07.913918Z",
     "shell.execute_reply.started": "2021-07-01T07:49:07.340119Z"
    },
    "papermill": {
     "duration": null,
     "end_time": null,
     "exception": null,
     "start_time": null,
     "status": "pending"
    },
    "tags": []
   },
   "outputs": [],
   "source": [
    "sns.heatmap(train[num_cols].corr().abs(), vmin=0, vmax=1, annot=True)"
   ]
  },
  {
   "cell_type": "markdown",
   "id": "employed-tokyo",
   "metadata": {
    "papermill": {
     "duration": null,
     "end_time": null,
     "exception": null,
     "start_time": null,
     "status": "pending"
    },
    "tags": []
   },
   "source": [
    "Тепловая карта для числовых признаков высокой корреляции непоказывает"
   ]
  },
  {
   "cell_type": "code",
   "execution_count": null,
   "id": "monetary-blues",
   "metadata": {
    "execution": {
     "iopub.execute_input": "2021-07-01T07:55:54.88582Z",
     "iopub.status.busy": "2021-07-01T07:55:54.885397Z",
     "iopub.status.idle": "2021-07-01T07:55:55.590515Z",
     "shell.execute_reply": "2021-07-01T07:55:55.589277Z",
     "shell.execute_reply.started": "2021-07-01T07:55:54.885786Z"
    },
    "papermill": {
     "duration": null,
     "end_time": null,
     "exception": null,
     "start_time": null,
     "status": "pending"
    },
    "tags": []
   },
   "outputs": [],
   "source": [
    "sns.heatmap(train[cat_cools].corr().abs(), vmin=0, vmax=1, annot=True)"
   ]
  },
  {
   "cell_type": "markdown",
   "id": "floating-location",
   "metadata": {
    "papermill": {
     "duration": null,
     "end_time": null,
     "exception": null,
     "start_time": null,
     "status": "pending"
    },
    "tags": []
   },
   "source": [
    "Среди категориальных признаков высокая корреляция наблюдается между признаками домашнего и рабочего адреса. Можно удалить один из признаков адреса в зависимости от значимости"
   ]
  },
  {
   "cell_type": "markdown",
   "id": "nonprofit-needle",
   "metadata": {
    "papermill": {
     "duration": null,
     "end_time": null,
     "exception": null,
     "start_time": null,
     "status": "pending"
    },
    "tags": []
   },
   "source": [
    "Постоим график, который покажет значимость бинарных и категориальных признаков"
   ]
  },
  {
   "cell_type": "code",
   "execution_count": null,
   "id": "ongoing-government",
   "metadata": {
    "execution": {
     "iopub.execute_input": "2021-07-02T16:16:27.128790Z",
     "iopub.status.busy": "2021-07-02T16:16:27.128136Z",
     "iopub.status.idle": "2021-07-02T16:16:27.570065Z",
     "shell.execute_reply": "2021-07-02T16:16:27.568809Z",
     "shell.execute_reply.started": "2021-07-02T16:16:27.128748Z"
    },
    "papermill": {
     "duration": null,
     "end_time": null,
     "exception": null,
     "start_time": null,
     "status": "pending"
    },
    "tags": []
   },
   "outputs": [],
   "source": [
    "imp_cat = Series(mutual_info_classif(train[bin_cols + cat_cools], train['default'],\n",
    "                                     discrete_features =True), index = bin_cols + cat_cools)\n",
    "imp_cat.sort_values(inplace = True)\n",
    "imp_cat.plot(kind = 'barh')"
   ]
  },
  {
   "cell_type": "markdown",
   "id": "regulated-rally",
   "metadata": {
    "papermill": {
     "duration": null,
     "end_time": null,
     "exception": null,
     "start_time": null,
     "status": "pending"
    },
    "tags": []
   },
   "source": [
    "Видно, что большую значимость среди признаков показывает связь заемщика с клиентом банка, также давность наличия информации о заемщике"
   ]
  },
  {
   "cell_type": "code",
   "execution_count": null,
   "id": "sharing-monte",
   "metadata": {
    "execution": {
     "iopub.execute_input": "2021-07-02T16:16:58.570633Z",
     "iopub.status.busy": "2021-07-02T16:16:58.570214Z",
     "iopub.status.idle": "2021-07-02T16:16:58.747120Z",
     "shell.execute_reply": "2021-07-02T16:16:58.746134Z",
     "shell.execute_reply.started": "2021-07-02T16:16:58.570603Z"
    },
    "papermill": {
     "duration": null,
     "end_time": null,
     "exception": null,
     "start_time": null,
     "status": "pending"
    },
    "tags": []
   },
   "outputs": [],
   "source": [
    "imp_num = pd.Series(f_classif(train[num_cols], train['default'])[0], index=num_cols)\n",
    "imp_num.sort_values(inplace=True)\n",
    "imp_num.plot(kind='barh')\n",
    "plt.title('Значимость числовых признаков')"
   ]
  },
  {
   "cell_type": "markdown",
   "id": "unlikely-constitution",
   "metadata": {
    "papermill": {
     "duration": null,
     "end_time": null,
     "exception": null,
     "start_time": null,
     "status": "pending"
    },
    "tags": []
   },
   "source": [
    "Среди числовых признаком наиболее значимым признаком является скоринговый балл. "
   ]
  },
  {
   "cell_type": "code",
   "execution_count": null,
   "id": "vertical-rwanda",
   "metadata": {
    "execution": {
     "iopub.execute_input": "2021-07-02T16:49:53.740628Z",
     "iopub.status.busy": "2021-07-02T16:49:53.740016Z",
     "iopub.status.idle": "2021-07-02T16:49:53.872589Z",
     "shell.execute_reply": "2021-07-02T16:49:53.871677Z",
     "shell.execute_reply.started": "2021-07-02T16:49:53.740591Z"
    },
    "papermill": {
     "duration": null,
     "end_time": null,
     "exception": null,
     "start_time": null,
     "status": "pending"
    },
    "tags": []
   },
   "outputs": [],
   "source": [
    "X_train_cat = OneHotEncoder(sparse = False).fit_transform(train[cat_cools].values)\n",
    "Y_test_cat = OneHotEncoder(sparse = False).fit_transform(test[cat_cools].values)"
   ]
  },
  {
   "cell_type": "markdown",
   "id": "occasional-tablet",
   "metadata": {
    "papermill": {
     "duration": null,
     "end_time": null,
     "exception": null,
     "start_time": null,
     "status": "pending"
    },
    "tags": []
   },
   "source": [
    "Стандартицируем числовые признаки в обоих выборках"
   ]
  },
  {
   "cell_type": "code",
   "execution_count": null,
   "id": "cutting-chicago",
   "metadata": {
    "execution": {
     "iopub.execute_input": "2021-07-02T16:49:57.703419Z",
     "iopub.status.busy": "2021-07-02T16:49:57.702804Z",
     "iopub.status.idle": "2021-07-02T16:49:57.722736Z",
     "shell.execute_reply": "2021-07-02T16:49:57.721938Z",
     "shell.execute_reply.started": "2021-07-02T16:49:57.703382Z"
    },
    "papermill": {
     "duration": null,
     "end_time": null,
     "exception": null,
     "start_time": null,
     "status": "pending"
    },
    "tags": []
   },
   "outputs": [],
   "source": [
    "X_num = StandardScaler().fit_transform(train[num_cols].values)\n",
    "Y_num = StandardScaler().fit_transform(test[num_cols].values)"
   ]
  },
  {
   "cell_type": "markdown",
   "id": "molecular-netscape",
   "metadata": {
    "papermill": {
     "duration": null,
     "end_time": null,
     "exception": null,
     "start_time": null,
     "status": "pending"
    },
    "tags": []
   },
   "source": [
    "Объединим"
   ]
  },
  {
   "cell_type": "code",
   "execution_count": null,
   "id": "educated-avatar",
   "metadata": {
    "execution": {
     "iopub.execute_input": "2021-07-02T16:50:03.009219Z",
     "iopub.status.busy": "2021-07-02T16:50:03.008601Z",
     "iopub.status.idle": "2021-07-02T16:50:03.031198Z",
     "shell.execute_reply": "2021-07-02T16:50:03.030480Z",
     "shell.execute_reply.started": "2021-07-02T16:50:03.009183Z"
    },
    "papermill": {
     "duration": null,
     "end_time": null,
     "exception": null,
     "start_time": null,
     "status": "pending"
    },
    "tags": []
   },
   "outputs": [],
   "source": [
    "X = np.hstack([X_num, train[bin_cols].values, X_train_cat])\n",
    "Y = train['default'].values\n",
    "\n",
    "#id_test = test['client_id']\n",
    "#test = np.hstack([Y_num, test[bin_cols].values, X_test_cat])"
   ]
  },
  {
   "cell_type": "code",
   "execution_count": null,
   "id": "identified-orbit",
   "metadata": {
    "execution": {
     "iopub.execute_input": "2021-07-02T16:50:07.452313Z",
     "iopub.status.busy": "2021-07-02T16:50:07.450164Z",
     "iopub.status.idle": "2021-07-02T16:50:07.470011Z",
     "shell.execute_reply": "2021-07-02T16:50:07.468847Z",
     "shell.execute_reply.started": "2021-07-02T16:50:07.452256Z"
    },
    "papermill": {
     "duration": null,
     "end_time": null,
     "exception": null,
     "start_time": null,
     "status": "pending"
    },
    "tags": []
   },
   "outputs": [],
   "source": [
    "X_train, X_test, y_train, y_test = train_test_split(X, Y, test_size=0.20, random_state=42)"
   ]
  },
  {
   "cell_type": "markdown",
   "id": "animal-benjamin",
   "metadata": {
    "papermill": {
     "duration": null,
     "end_time": null,
     "exception": null,
     "start_time": null,
     "status": "pending"
    },
    "tags": []
   },
   "source": [
    "Подберем гиперпараметры"
   ]
  },
  {
   "cell_type": "code",
   "execution_count": null,
   "id": "smooth-european",
   "metadata": {
    "execution": {
     "iopub.execute_input": "2021-07-02T16:50:10.331188Z",
     "iopub.status.busy": "2021-07-02T16:50:10.330572Z",
     "iopub.status.idle": "2021-07-02T16:51:07.313708Z",
     "shell.execute_reply": "2021-07-02T16:51:07.312667Z",
     "shell.execute_reply.started": "2021-07-02T16:50:10.331150Z"
    },
    "papermill": {
     "duration": null,
     "end_time": null,
     "exception": null,
     "start_time": null,
     "status": "pending"
    },
    "tags": []
   },
   "outputs": [],
   "source": [
    "# Добавим типы регуляризации\n",
    "penalty = ['l1', 'l2']\n",
    "\n",
    "# Зададим ограничения для параметра регуляризации\n",
    "C = np.logspace(0, 4, 10)\n",
    "\n",
    "# Создадим гиперпараметры\n",
    "hyperparameters = dict(C=C, penalty=penalty)\n",
    "\n",
    "model = LogisticRegression()\n",
    "model.fit(X_train, y_train)\n",
    "\n",
    "# Создаем сетку поиска с использованием 5-кратной перекрестной проверки\n",
    "clf = GridSearchCV(model, hyperparameters, cv=5, verbose=0)\n",
    "\n",
    "best_model = clf.fit(X_train, y_train)\n",
    "\n",
    "# View best hyperparameters\n",
    "print('Лучшее Penalty:', best_model.best_estimator_.get_params()['penalty'])\n",
    "print('Лучшее C:', best_model.best_estimator_.get_params()['C'])"
   ]
  },
  {
   "cell_type": "markdown",
   "id": "signed-article",
   "metadata": {
    "papermill": {
     "duration": null,
     "end_time": null,
     "exception": null,
     "start_time": null,
     "status": "pending"
    },
    "tags": []
   },
   "source": [
    "Обучим модель с полученными гиперпараметрами"
   ]
  },
  {
   "cell_type": "code",
   "execution_count": null,
   "id": "executive-catalog",
   "metadata": {
    "execution": {
     "iopub.execute_input": "2021-07-02T16:53:35.502759Z",
     "iopub.status.busy": "2021-07-02T16:53:35.502381Z",
     "iopub.status.idle": "2021-07-02T16:53:37.966933Z",
     "shell.execute_reply": "2021-07-02T16:53:37.965828Z",
     "shell.execute_reply.started": "2021-07-02T16:53:35.502728Z"
    },
    "papermill": {
     "duration": null,
     "end_time": null,
     "exception": null,
     "start_time": null,
     "status": "pending"
    },
    "tags": []
   },
   "outputs": [],
   "source": [
    "model = LogisticRegression(penalty='l2', C=1.0, max_iter=1000)\n",
    "model.fit(X_train, y_train)"
   ]
  },
  {
   "cell_type": "code",
   "execution_count": null,
   "id": "intimate-wireless",
   "metadata": {
    "execution": {
     "iopub.execute_input": "2021-07-02T16:53:41.154430Z",
     "iopub.status.busy": "2021-07-02T16:53:41.153872Z",
     "iopub.status.idle": "2021-07-02T16:53:41.377320Z",
     "shell.execute_reply": "2021-07-02T16:53:41.376481Z",
     "shell.execute_reply.started": "2021-07-02T16:53:41.154386Z"
    },
    "papermill": {
     "duration": null,
     "end_time": null,
     "exception": null,
     "start_time": null,
     "status": "pending"
    },
    "tags": []
   },
   "outputs": [],
   "source": [
    "probs = model.predict_proba(X_test)\n",
    "probs = probs[:,1]\n",
    "\n",
    "\n",
    "fpr, tpr, threshold = roc_curve(y_test, probs)\n",
    "roc_auc = roc_auc_score(y_test, probs)\n",
    "\n",
    "plt.figure()\n",
    "plt.plot([0, 1], label='Baseline', linestyle='--')\n",
    "plt.plot(fpr, tpr, label = 'Regression')\n",
    "plt.title('Logistic Regression ROC AUC = %0.3f' % roc_auc)\n",
    "plt.ylabel('True Positive Rate')\n",
    "plt.xlabel('False Positive Rate')\n",
    "plt.legend(loc = 'lower right')\n",
    "plt.show()"
   ]
  },
  {
   "cell_type": "code",
   "execution_count": null,
   "id": "graphic-paint",
   "metadata": {
    "execution": {
     "iopub.execute_input": "2021-07-02T16:53:45.341681Z",
     "iopub.status.busy": "2021-07-02T16:53:45.341300Z",
     "iopub.status.idle": "2021-07-02T16:53:45.347513Z",
     "shell.execute_reply": "2021-07-02T16:53:45.346560Z",
     "shell.execute_reply.started": "2021-07-02T16:53:45.341646Z"
    },
    "papermill": {
     "duration": null,
     "end_time": null,
     "exception": null,
     "start_time": null,
     "status": "pending"
    },
    "tags": []
   },
   "outputs": [],
   "source": [
    "Y_predicted = model.predict(X_test)"
   ]
  },
  {
   "cell_type": "code",
   "execution_count": null,
   "id": "buried-selection",
   "metadata": {
    "execution": {
     "iopub.execute_input": "2021-07-02T16:53:47.376268Z",
     "iopub.status.busy": "2021-07-02T16:53:47.375887Z",
     "iopub.status.idle": "2021-07-02T16:53:47.403376Z",
     "shell.execute_reply": "2021-07-02T16:53:47.402430Z",
     "shell.execute_reply.started": "2021-07-02T16:53:47.376220Z"
    },
    "papermill": {
     "duration": null,
     "end_time": null,
     "exception": null,
     "start_time": null,
     "status": "pending"
    },
    "tags": []
   },
   "outputs": [],
   "source": [
    "print('accuracy_score:',accuracy_score(y_test, Y_predicted))\n",
    "print('precision_score:',precision_score(y_test, Y_predicted))\n",
    "print('recall_score:',recall_score(y_test, Y_predicted))\n",
    "print('f1_score:',f1_score(y_test, Y_predicted))"
   ]
  },
  {
   "cell_type": "markdown",
   "id": "diverse-organic",
   "metadata": {
    "papermill": {
     "duration": null,
     "end_time": null,
     "exception": null,
     "start_time": null,
     "status": "pending"
    },
    "tags": []
   },
   "source": [
    "Построим матрицу ошибок"
   ]
  },
  {
   "cell_type": "code",
   "execution_count": null,
   "id": "incoming-calculation",
   "metadata": {
    "execution": {
     "iopub.execute_input": "2021-07-02T16:53:51.432348Z",
     "iopub.status.busy": "2021-07-02T16:53:51.431973Z",
     "iopub.status.idle": "2021-07-02T16:53:51.565313Z",
     "shell.execute_reply": "2021-07-02T16:53:51.564610Z",
     "shell.execute_reply.started": "2021-07-02T16:53:51.432317Z"
    },
    "papermill": {
     "duration": null,
     "end_time": null,
     "exception": null,
     "start_time": null,
     "status": "pending"
    },
    "tags": []
   },
   "outputs": [],
   "source": [
    "from sklearn.metrics import confusion_matrix\n",
    "print (confusion_matrix(y_test, Y_predicted))\n",
    "sns.heatmap(confusion_matrix(y_test, Y_predicted), annot=True, annot_kws={\"size\": 20}, fmt='', cmap= 'Pastel1', cbar = False, \\\n",
    "                 xticklabels = ['Дефолт','Не дефолт'], yticklabels= ['Дефолт','Не дефолт'])\n",
    "plt.title('Матрица ошибок для default')\n",
    "plt.show()"
   ]
  },
  {
   "cell_type": "markdown",
   "id": "focused-component",
   "metadata": {
    "papermill": {
     "duration": null,
     "end_time": null,
     "exception": null,
     "start_time": null,
     "status": "pending"
    },
    "tags": []
   },
   "source": [
    "Выкладываем результат на Kaggle"
   ]
  },
  {
   "cell_type": "code",
   "execution_count": null,
   "id": "residential-screen",
   "metadata": {
    "execution": {
     "iopub.execute_input": "2021-07-02T16:53:55.911643Z",
     "iopub.status.busy": "2021-07-02T16:53:55.911032Z",
     "iopub.status.idle": "2021-07-02T16:53:55.923634Z",
     "shell.execute_reply": "2021-07-02T16:53:55.922516Z",
     "shell.execute_reply.started": "2021-07-02T16:53:55.911604Z"
    },
    "papermill": {
     "duration": null,
     "end_time": null,
     "exception": null,
     "start_time": null,
     "status": "pending"
    },
    "tags": []
   },
   "outputs": [],
   "source": [
    "id_test = test['client_id']\n",
    "test = np.hstack([Y_num, test[bin_cols].values, Y_test_cat])"
   ]
  },
  {
   "cell_type": "markdown",
   "id": "exact-mauritius",
   "metadata": {
    "papermill": {
     "duration": null,
     "end_time": null,
     "exception": null,
     "start_time": null,
     "status": "pending"
    },
    "tags": []
   },
   "source": [
    "Подберем гиперпараметры"
   ]
  },
  {
   "cell_type": "code",
   "execution_count": null,
   "id": "ready-engineering",
   "metadata": {
    "execution": {
     "iopub.execute_input": "2021-07-02T16:54:00.320380Z",
     "iopub.status.busy": "2021-07-02T16:54:00.319874Z",
     "iopub.status.idle": "2021-07-02T16:54:03.357802Z",
     "shell.execute_reply": "2021-07-02T16:54:03.356580Z",
     "shell.execute_reply.started": "2021-07-02T16:54:00.320348Z"
    },
    "papermill": {
     "duration": null,
     "end_time": null,
     "exception": null,
     "start_time": null,
     "status": "pending"
    },
    "tags": []
   },
   "outputs": [],
   "source": [
    "model = LogisticRegression(penalty = 'l2', C=1.0, max_iter=1000)\n",
    "model.fit(X, Y)\n",
    "probs = model.predict_proba(test)\n",
    "probs = probs[:,1]"
   ]
  },
  {
   "cell_type": "code",
   "execution_count": null,
   "id": "western-cargo",
   "metadata": {
    "execution": {
     "iopub.execute_input": "2021-07-02T16:54:14.092387Z",
     "iopub.status.busy": "2021-07-02T16:54:14.092019Z",
     "iopub.status.idle": "2021-07-02T16:54:14.247215Z",
     "shell.execute_reply": "2021-07-02T16:54:14.246277Z",
     "shell.execute_reply.started": "2021-07-02T16:54:14.092355Z"
    },
    "papermill": {
     "duration": null,
     "end_time": null,
     "exception": null,
     "start_time": null,
     "status": "pending"
    },
    "tags": []
   },
   "outputs": [],
   "source": [
    "my_submission = pd.DataFrame({'client_id': id_test,\n",
    "                              'default': probs})\n",
    "my_submission.to_csv('submission.csv', index=False)\n",
    "\n",
    "my_submission.head(10)"
   ]
  },
  {
   "cell_type": "code",
   "execution_count": null,
   "id": "alternate-austin",
   "metadata": {
    "papermill": {
     "duration": null,
     "end_time": null,
     "exception": null,
     "start_time": null,
     "status": "pending"
    },
    "tags": []
   },
   "outputs": [],
   "source": []
  }
 ],
 "metadata": {
  "kernelspec": {
   "display_name": "Python 3",
   "language": "python",
   "name": "python3"
  },
  "language_info": {
   "codemirror_mode": {
    "name": "ipython",
    "version": 3
   },
   "file_extension": ".py",
   "mimetype": "text/x-python",
   "name": "python",
   "nbconvert_exporter": "python",
   "pygments_lexer": "ipython3",
   "version": "3.7.10"
  },
  "papermill": {
   "default_parameters": {},
   "duration": 11.632329,
   "end_time": "2021-07-02T17:24:45.606095",
   "environment_variables": {},
   "exception": true,
   "input_path": "__notebook__.ipynb",
   "output_path": "__notebook__.ipynb",
   "parameters": {},
   "start_time": "2021-07-02T17:24:33.973766",
   "version": "2.3.3"
  }
 },
 "nbformat": 4,
 "nbformat_minor": 5
}
